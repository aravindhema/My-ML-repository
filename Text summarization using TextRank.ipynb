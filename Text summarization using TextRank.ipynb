{
 "cells": [
  {
   "cell_type": "code",
   "execution_count": 21,
   "metadata": {},
   "outputs": [],
   "source": [
    "#This program summarizes small texts using the TextRank algorithm. We will be using the extractive form of summarization in this\n",
    "#program. This program shows a more detailed form of the gensim text rank summarization algorithm by computing the cosine distances"
   ]
  },
  {
   "cell_type": "code",
   "execution_count": 22,
   "metadata": {},
   "outputs": [],
   "source": [
    "import numpy as np\n",
    "import pandas as pd\n",
    "import nltk\n",
    "from nltk.cluster.util import cosine_distance"
   ]
  },
  {
   "cell_type": "code",
   "execution_count": 23,
   "metadata": {},
   "outputs": [],
   "source": [
    "#Get the input file\n",
    "input_file = 'C:\\\\Users\\\\HemaRamachandran\\\\conversation1.txt'"
   ]
  },
  {
   "cell_type": "code",
   "execution_count": 24,
   "metadata": {},
   "outputs": [
    {
     "data": {
      "text/plain": [
       "['Chairman Wormsley: Each of you has received the agenda. I will entertain a motion that the agenda be approved.',\n",
       " 'Commissioner Brown: So moved.',\n",
       " 'Commissioner Hobbs: Seconded',\n",
       " 'Chairman Wormsley: It has been moved and seconded that the agenda be approved as received by the members. All those in favor signify by saying \"Aye\"?...Opposed by saying \"No\"?...The agenda is approved. You have received a copy of the minutes of the last meeting. Are there any corrections or additions to the meeting?']"
      ]
     },
     "execution_count": 24,
     "metadata": {},
     "output_type": "execute_result"
    }
   ],
   "source": [
    "#Open the input file. Remove newline characters\n",
    "a = open(input_file,'r')\n",
    "text = a.read().split('\\n\\n')\n",
    "text[:4]"
   ]
  },
  {
   "cell_type": "code",
   "execution_count": 25,
   "metadata": {},
   "outputs": [],
   "source": [
    "from nltk.tokenize import sent_tokenize"
   ]
  },
  {
   "cell_type": "code",
   "execution_count": 26,
   "metadata": {},
   "outputs": [
    {
     "name": "stdout",
     "output_type": "stream",
     "text": [
      "['Chairman Wormsley: Each of you has received the agenda.', 'I will entertain a motion that the agenda be approved.', 'Commissioner Brown: So moved.', 'Commissioner Hobbs: Seconded', 'Chairman Wormsley: It has been moved and seconded that the agenda be approved as received by the members.']\n"
     ]
    }
   ],
   "source": [
    "#separate the sentences into tokens using nltk's sent_tokenize\n",
    "sentences = []\n",
    "for s in text:\n",
    "    sentences.append(sent_tokenize(s))\n",
    "#print(sentences[:5])\n",
    "\n",
    "\n",
    "#flatten the sentences\n",
    "sentences = [y for x in sentences for y in x]\n",
    "print(sentences[:5])"
   ]
  },
  {
   "cell_type": "code",
   "execution_count": 27,
   "metadata": {},
   "outputs": [
    {
     "name": "stdout",
     "output_type": "stream",
     "text": [
      "0    Chairman Wormsley: Each of you has received th...\n",
      "1    I will entertain a motion that the agenda be a...\n",
      "2                        Commissioner Brown: So moved \n",
      "3                         Commissioner Hobbs: Seconded\n",
      "4    Chairman Wormsley: It has been moved and secon...\n",
      "dtype: object\n"
     ]
    }
   ],
   "source": [
    "#remove numerical and special characters\n",
    "clean_sentences = pd.Series(sentences).str.replace(\"[^a-zA-Z:]\", \" \")\n",
    "print(clean_sentences[:5])"
   ]
  },
  {
   "cell_type": "code",
   "execution_count": 28,
   "metadata": {},
   "outputs": [
    {
     "name": "stdout",
     "output_type": "stream",
     "text": [
      "['Chairman Wormsley: Each received agenda', 'I entertain motion agenda approved', 'Commissioner Brown: So moved', 'Commissioner Hobbs: Seconded', 'Chairman Wormsley: It moved seconded agenda approved received members']\n"
     ]
    }
   ],
   "source": [
    "#remove stopwords from the sentences\n",
    "from nltk.corpus import stopwords\n",
    "stop_words = stopwords.words('english')\n",
    "def remove_stopwords(sen):\n",
    "    sen_new = \" \".join([i for i in sen if i not in stop_words])\n",
    "    return sen_new\n",
    "clean_sentences = [remove_stopwords(r.split()) for r in clean_sentences]\n",
    "print(clean_sentences[:5])"
   ]
  },
  {
   "cell_type": "code",
   "execution_count": 29,
   "metadata": {},
   "outputs": [],
   "source": [
    "from sklearn.metrics.pairwise import cosine_similarity\n",
    "word_embeddings = {}\n",
    "#open the glove vector dataset to obtain the vector representation of all the words. From these we willl frame the \n",
    "#sentence vectors as we read each sentence. We will use the vectors to compute the cosine similarity between sentences \n",
    "#the similarity scores will then be used by the Textrank algorithm to compute the rank/score of each sentence. \n",
    "f = open('C:\\\\Users\\\\HemaRamachandran\\\\glove.6B\\\\glove.6B.100d.txt', encoding='utf-8')"
   ]
  },
  {
   "cell_type": "code",
   "execution_count": 30,
   "metadata": {},
   "outputs": [],
   "source": [
    "#store the vector representation of each word in an array\n",
    "for line in f:\n",
    "    values = line.split()\n",
    "    word = values[0]\n",
    "    coefs = np.asarray(values[1:],dtype='float32')\n",
    "    word_embeddings[word] = coefs\n",
    "f.close()"
   ]
  },
  {
   "cell_type": "code",
   "execution_count": 31,
   "metadata": {},
   "outputs": [],
   "source": [
    "#for each sentence, sum up the vectors to arrive at the sentence vector for that sentence\n",
    "sentence_vectors = []\n",
    "for i in clean_sentences:\n",
    "    if len(i) != 0:\n",
    "        v = sum([word_embeddings.get(w, np.zeros((100,))) for w in i.split()])/(len(i.split())+0.001)\n",
    "        #print(i.split())\n",
    "        #print(v)\n",
    "        #print(i)\n",
    "    else:\n",
    "        v = np.zeros((100,))\n",
    "    sentence_vectors.append(v)"
   ]
  },
  {
   "cell_type": "code",
   "execution_count": 32,
   "metadata": {},
   "outputs": [],
   "source": [
    "sim_mat = np.zeros([len(clean_sentences),len(clean_sentences)])"
   ]
  },
  {
   "cell_type": "code",
   "execution_count": 33,
   "metadata": {},
   "outputs": [],
   "source": [
    "#compute cosine similarity between sentence vectors\n",
    "for i in range(len(clean_sentences)):\n",
    "      for j in range(len(clean_sentences)):\n",
    "        if i != j:\n",
    "              sim_mat[i][j] = cosine_similarity(sentence_vectors[i].reshape(1,100), sentence_vectors[j].reshape(1,100))[0,0]"
   ]
  },
  {
   "cell_type": "code",
   "execution_count": 34,
   "metadata": {},
   "outputs": [],
   "source": [
    "#import the pagerank score computation\n",
    "import networkx as nx\n",
    "nx_graph = nx.from_numpy_array(sim_mat)\n",
    "scores = nx.pagerank(nx_graph)"
   ]
  },
  {
   "cell_type": "code",
   "execution_count": 35,
   "metadata": {},
   "outputs": [],
   "source": [
    "#sort the ranked sentences on the descending order of scores\n",
    "ranked_sentences = sorted(((scores[i],s) for i,s in enumerate(sentences)), reverse=True)"
   ]
  },
  {
   "cell_type": "code",
   "execution_count": 36,
   "metadata": {},
   "outputs": [
    {
     "name": "stdout",
     "output_type": "stream",
     "text": [
      "As you know, a motion for previous question, if passed by a two-thirds vote, will cut off further debate and require us to vote yes or no on the resolution before us.\n",
      "(This is sort of a short cut way that is commonly used for approval of minutes and/or the agenda rather than requiring a motion and second.)\n",
      "You should vote for this motion if you wish to cut off further debate of the wheel tax increase at this point.\n",
      "This is the first time this resolution is under consideration.)\n",
      "Chairman Wormsley: It has been properly moved and seconded that a resolution increasing the wheel tax by $10 to make up the state cut in education funding be passed.\n",
      "Commissioner Hayes: I move previous question.\n",
      "This resolution calls for the increases to go to the general fund.\n",
      "Commissioner Adkins: Each of you has previously received a copy of a resolution to increase the wheel tax by $10 to make up the state cut in education funding.\n",
      "Will all those in favor of previous question please raise your hand?\n",
      "Chairman Wormsley: Commissioner, you are out of order because this motion has not been seconded as needed before the floor is open for discussion or debate.\n"
     ]
    }
   ],
   "source": [
    "# Extract top 10 sentences as the summary\n",
    "for i in range(10):\n",
    "     print(ranked_sentences[i][1])"
   ]
  },
  {
   "cell_type": "code",
   "execution_count": null,
   "metadata": {},
   "outputs": [],
   "source": [
    "#end of program"
   ]
  }
 ],
 "metadata": {
  "kernelspec": {
   "display_name": "Python 3",
   "language": "python",
   "name": "python3"
  },
  "language_info": {
   "codemirror_mode": {
    "name": "ipython",
    "version": 3
   },
   "file_extension": ".py",
   "mimetype": "text/x-python",
   "name": "python",
   "nbconvert_exporter": "python",
   "pygments_lexer": "ipython3",
   "version": "3.7.4"
  }
 },
 "nbformat": 4,
 "nbformat_minor": 2
}
